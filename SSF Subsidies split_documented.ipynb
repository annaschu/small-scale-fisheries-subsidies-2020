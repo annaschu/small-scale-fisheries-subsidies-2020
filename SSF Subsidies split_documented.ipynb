{
 "cells": [
  {
   "cell_type": "code",
   "execution_count": 1,
   "metadata": {},
   "outputs": [
    {
     "data": {
      "text/plain": [
       "'0.23.4'"
      ]
     },
     "execution_count": 1,
     "metadata": {},
     "output_type": "execute_result"
    }
   ],
   "source": [
    "%matplotlib inline\n",
    "import pandas as pd\n",
    "import matplotlib.pyplot as plt\n",
    "plt.style.use('classic')\n",
    "import plotly as py\n",
    "from chart_studio.plotly import plot, iplot\n",
    "import plotly.graph_objects as go\n",
    "import numpy as np\n",
    "plt.style.use('ggplot')\n",
    "pd.__version__"
   ]
  },
  {
   "cell_type": "code",
   "execution_count": 2,
   "metadata": {},
   "outputs": [],
   "source": [
    "# all files stored on ~/Input folder\n",
    "SSF = pd.read_csv(\"Input/Subsidies-SSF.csv\")\n",
    "# newly created split based on subsidy subtypes\n",
    "SSF_unknown = pd.read_csv(\"Input/Unknown Amounts-SSF.csv\")\n",
    "# newly split but based on subsidies data points that include unknown values (evidence of subsidy but no amount found)\n",
    "SSF_2009 = pd.read_csv(\"Input/SSF_2009.csv\")\n",
    "# Subsidies split based on 2009 total subsidies database (see Schuhbauer et al 2017)\n",
    "Countrydata = pd.read_csv(\"Input/Country_Data.csv\")\n",
    "# UN based information on maritime countries \n",
    "Subsidytypes = pd.read_csv(\"Input/Subsidy_types.csv\")\n",
    "# Subsidy Categories, Types and Classes\n",
    "Subsidies2018 = pd.read_csv(\"Input/Subsidies_2018_all.csv\")\n",
    "# Total Subsidies database (see Sumaila et al 2019)"
   ]
  },
  {
   "cell_type": "code",
   "execution_count": 3,
   "metadata": {},
   "outputs": [],
   "source": [
    "SSF_2009 = SSF_2009.rename(columns = {'Countries':'Country'})\n",
    "# rename the column name 'Countries' to 'Country'"
   ]
  },
  {
   "cell_type": "code",
   "execution_count": 4,
   "metadata": {},
   "outputs": [],
   "source": [
    "# prepare unknown amounts where we have SSF split data but no reported total subsidies amounts\n",
    "SSF_unknown['SSF_prop'] =  SSF_unknown['SSF percentage']/100\n",
    "# compute proportion out of percentage for unknown values\n",
    "SSF_unknown_type = SSF_unknown.groupby(['Country','Type'], as_index = False).mean()\n",
    "# merge/group the data from subtype to type level\n",
    "SSF_unknown_type = SSF_unknown_type.loc[:,['Country', 'Type','SSF_prop']]\n",
    "# shorten unknown dataframe so it can be added to SSF_Type data\n"
   ]
  },
  {
   "cell_type": "code",
   "execution_count": 5,
   "metadata": {},
   "outputs": [],
   "source": [
    "# prepare SSF dataframe and concat with unknown\n",
    "SSF['SSF_amount'] =  SSF['Amount'] * (SSF['SSF percentage']/100)\n",
    "# compute the actual mount of SSF subsidies using the percentage\n",
    "SSF_type = SSF.groupby(['Country','Type'], as_index = False).sum()\n",
    "# group by Type to add all subtypes together\n",
    "SSF_type['SSF_prop'] = SSF_type['SSF_amount']/SSF_type['Amount']\n",
    "# compute proportion for SSF per Country and Type\n",
    "SSF_type_loc = SSF_type.loc[:,['Country', 'Type','SSF_prop']]\n",
    "\n",
    "SSF_type_all = pd.concat([SSF_type_loc, SSF_unknown_type])\n",
    "# add unknown with SSF proportions\n",
    "\n",
    "SSF_class = pd.merge(left = SSF_type_all, right = Subsidytypes, how = 'left')\n",
    "# change Type into Class to avoid any wording/spelling difference when working with 2009 dataframes\n",
    "SSF_class = SSF_class.loc[:,['Country', 'SSF_prop', 'Class']]"
   ]
  },
  {
   "cell_type": "code",
   "execution_count": 6,
   "metadata": {},
   "outputs": [],
   "source": [
    "# merge with 2018 USD amount full Subsidy data base\n",
    "Subsidies2018_short = Subsidies2018.loc[:,['Country','Class','Constant 2018 USD']]\n",
    "# reduce 2018 dataframe\n",
    "SSF_amounts = pd.merge(left = SSF_class, right = Subsidies2018_short, how = 'left')\n",
    "# merge with SSF proportions so USD SSF amount can be computed based on full data set\n",
    "SSF_subregions = pd.merge(left = SSF_amounts, right = Countrydata, how = 'left')\n",
    "# merge with country data to prep for subregion averages\n",
    "SSF_subregions['SSF_amount'] = SSF_subregions['Constant 2018 USD']*SSF_subregions['SSF_prop']\n",
    "# compute SSF amount in USD from proportions\n",
    "SSF_subregion_sum = SSF_subregions.groupby(['Subregion','Class'], as_index = False).sum()\n",
    "# sum all amounts and all SSF-amounts per subregion and Class\n",
    "SSF_subregion_sum = SSF_subregion_sum.loc[:,['Subregion','Class','Constant 2018 USD','SSF_amount']]\n",
    "# shorten dataframe\n",
    "SSF_subregion_sum['prop_SSF_subregion'] = SSF_subregion_sum['SSF_amount']/SSF_subregion_sum['Constant 2018 USD']\n",
    "# compute SSF proportion per subregion and Class\n"
   ]
  },
  {
   "cell_type": "code",
   "execution_count": 7,
   "metadata": {},
   "outputs": [],
   "source": [
    "\n",
    "# prepare 2009 SSF split data to use to fill gaps where we have no SSF subregion proportion from 2018 dataset\n",
    "SSF_2009_short = SSF_2009.loc[:,['RegionName','Subregion', 'Country','Type','total_subsidies',\n",
    "                                 'SSF_subsidies_percent_all','SSF subsidies']]\n",
    "SSF_2009_short = SSF_2009_short.fillna(0)\n",
    "# fill all empty spaces (nan) with zeros\n",
    "SSF_2009_short.columns = ['RegionName', 'Subregion', 'Country', 'Class', 'total_subsidies','SSF_subsidies_percent_all','SSF subsidies']\n",
    "# rename column header Type to Class\n",
    "SSF_2009_subregion = SSF_2009_short.groupby(['Subregion','Class'], as_index=False).sum()\n",
    "# summ total subsidies and SSF subsidies per subregion and class\n",
    "SSF_2009_subregion['prop_subregion_2009'] = SSF_2009_subregion['SSF subsidies'] / SSF_2009_subregion['total_subsidies']\n",
    "# compute proportion of SSF subsidies per subregion from 2009 dataset\n",
    "SSF_2009_subregion = SSF_2009_subregion.loc[:,['Subregion','Class','prop_subregion_2009']]\n",
    "# shorten dataframe\n",
    "SSF_2009_adjust = pd.merge(left = SSF_2009_short, right = SSF_2009_subregion, how = 'left')\n",
    "# merge mean by subregiond ata with original data\n",
    "\n",
    "SSF_2009_adjust['factor'] = SSF_2009_adjust['SSF_subsidies_percent_all'] / SSF_2009_adjust['prop_subregion_2009']\n",
    "# compute adjustment factor for every country and every subsidy type\n",
    "SSF_2009_adjust = SSF_2009_adjust.loc[:,['RegionName','Subregion','Country','Class',\n",
    "                                         'SSF_subsidies_percent_all','prop_subregion_2009','factor']]\n",
    "SSF_2009_adjust.columns = ['RegionName', 'Subregion', 'Country', 'Class','SSF_subsidies_2009', 'prop_subregion_2009', 'factor']"
   ]
  },
  {
   "cell_type": "code",
   "execution_count": 8,
   "metadata": {},
   "outputs": [],
   "source": [
    "# use all Subsidies2018 as the baseline  to merge everything onto its right side\n",
    "Subsidies_SSF_2018 = pd.merge(left = Subsidies2018, right = SSF_class, how = 'left' )\n",
    "# merge SSF_prop where available to Subsidies2018 baseline dataframe\n",
    "Subsidies_SSF_2018 = pd.merge(left = Subsidies_SSF_2018, right = Countrydata, how ='left' )\n",
    "# add country data to have subregion included\n",
    "Subsidies_SSF_2018 = Subsidies_SSF_2018.loc[:,['RegionName', 'Country', 'Class', 'Category', 'Type',\n",
    "                                               'Constant 2018 USD', 'Data Type', 'SSF_prop', 'Subregion']]\n",
    "# shorten df to only necessary columns\n",
    "\n",
    "SSF_subregion_2018 = SSF_subregion_sum.loc[:,['Subregion', 'Class','prop_SSF_subregion']]\n",
    "# shorten datatframe including SSF propo per subregion\n",
    "Subsidies_SSF_2018 = pd.merge(left = Subsidies_SSF_2018, right = SSF_subregion_2018, how ='left')\n",
    "# add 2018 subregion SSF prop of subsidies to baseline dataframe\n",
    "Subsidies_SSF_2018 = pd.merge(left = Subsidies_SSF_2018, right =  SSF_2009_adjust, how ='left')\n",
    " # add adjustment factor to baseline df \n",
    "    # that was calculated based on 2009 SSF subsidies data by subregion and country for each Type\n",
    "Subsidies_SSF_2018['SSF%_modeled'] = Subsidies_SSF_2018['prop_SSF_subregion'] * Subsidies_SSF_2018['factor']\n",
    "# compute the modeled estimate based on 2018 subregion SSF% mean and adjust by multiplying with SSF% 2009 based factor"
   ]
  },
  {
   "cell_type": "code",
   "execution_count": 9,
   "metadata": {},
   "outputs": [
    {
     "data": {
      "text/plain": [
       "Index(['RegionName', 'Country', 'Class', 'Category', 'Type',\n",
       "       'Constant 2018 USD', 'Data Type', 'SSF_prop', 'Subregion',\n",
       "       'prop_SSF_subregion', 'SSF_subsidies_2009', 'prop_subregion_2009',\n",
       "       'factor', 'SSF%_modeled'],\n",
       "      dtype='object')"
      ]
     },
     "execution_count": 9,
     "metadata": {},
     "output_type": "execute_result"
    }
   ],
   "source": [
    "Subsidies_SSF_2018.columns"
   ]
  },
  {
   "cell_type": "code",
   "execution_count": 10,
   "metadata": {},
   "outputs": [],
   "source": [
    "def SSF_estimate(row):\n",
    "    \"\"\"Return non-NaN values where possible.\"\"\"\n",
    "    if np.isnan(row['SSF_prop']):\n",
    "        if np.isnan(row['SSF%_modeled']):\n",
    "            val = row['SSF_subsidies_2009']\n",
    "        else:\n",
    "            val = row['SSF%_modeled']    \n",
    "    else:\n",
    "        val = row['SSF_prop']\n",
    "    return val \n",
    "    \n",
    "# if Subsidies_SSF_2018['SSF_prop'] is not np.nan == take Subsidies_SSF_2018['SSF_prop']\n",
    "# else  'SSF%_modeled' is not np.nan\n",
    "# \n",
    "\n",
    "Subsidies_SSF_2018['SSF%_2018'] = Subsidies_SSF_2018.apply(SSF_estimate, axis =1)\n"
   ]
  },
  {
   "cell_type": "code",
   "execution_count": 11,
   "metadata": {},
   "outputs": [],
   "source": [
    "def reported_modeled(row):\n",
    "    if not np.isnan(row['SSF_prop']):\n",
    "        return 'Reported'\n",
    "        \n",
    "    elif row['Constant 2018 USD'] == 0:\n",
    "        return 'NA'\n",
    "    \n",
    "    elif row['SSF_prop'] == row['SSF_subsidies_2009']:\n",
    "        return 'Used 2009 split'\n",
    "        \n",
    "    else:\n",
    "        return 'Modeled'\n",
    "# to know which data in the newly created column is observed vs modeled data we apply the function 'observed_modeled\n",
    "\n",
    "Subsidies_SSF_2018['Reported vs modeled estimates'] = Subsidies_SSF_2018.apply(reported_modeled, axis=1)\n",
    "# we create a new column and apply the function modeled-observed to indicate which amount in 'Estimated_2018_all' \n",
    "# stems from original observed (reported) data versus modeled"
   ]
  },
  {
   "cell_type": "code",
   "execution_count": 12,
   "metadata": {},
   "outputs": [],
   "source": [
    "Subsidies_SSF_2018['SSF%_2018'] = np.where(Subsidies_SSF_2018['SSF%_2018'] > 1 ,1, Subsidies_SSF_2018['SSF%_2018'])\n",
    "# due to some rounding issues, some numbers for SSF % became larger than 1 - as they cannot be above 100% I capped them to be 1\n",
    "Subsidies_SSF_2018[['SSF%_2018']] = Subsidies_SSF_2018[['SSF%_2018']].fillna(value=0)\n",
    "# fill empty cells with zeros"
   ]
  },
  {
   "cell_type": "code",
   "execution_count": 13,
   "metadata": {},
   "outputs": [],
   "source": [
    "Subsidies_SSF_2018['SSF_USD'] = Subsidies_SSF_2018['Constant 2018 USD'] * Subsidies_SSF_2018['SSF%_2018']\n",
    "Subsidies_SSF_2018['LSF_USD'] = Subsidies_SSF_2018['Constant 2018 USD'] - Subsidies_SSF_2018['SSF_USD']"
   ]
  },
  {
   "cell_type": "code",
   "execution_count": 14,
   "metadata": {},
   "outputs": [],
   "source": [
    "# summary Subsidies_SSF_2018\n",
    "\n",
    "Subsidies_SSF_split_2019 = Subsidies_SSF_2018.loc[:,['RegionName', 'Country', 'Category', 'Type',\n",
    "                                                     'Constant 2018 USD','Reported vs modeled estimates','SSF_USD']]\n",
    "\n",
    "Subsidies_SSF_split_2019 = Subsidies_SSF_split_2019[['RegionName', 'Country', 'Category', 'Type',\n",
    "                                                     'Constant 2018 USD','SSF_USD','Reported vs modeled estimates']]\n",
    "\n",
    "# Subsidies_SSF_split_2019.to_csv(\"Output/Subsidies_SSF_split_2019.csv\")"
   ]
  },
  {
   "cell_type": "code",
   "execution_count": 15,
   "metadata": {},
   "outputs": [],
   "source": [
    "# make pie charts\n",
    "\n",
    "Categories_SSF_pie = Subsidies_SSF_2018.groupby(['Category'], as_index = False ).sum()\n",
    "Categories_SSF_pie = Categories_SSF_pie.loc[:,['Category','Constant 2018 USD','SSF_USD']]\n",
    "Categories_SSF_pie['LSF USD'] = Categories_SSF_pie['Constant 2018 USD'] - Categories_SSF_pie['SSF_USD']\n",
    "\n",
    "Am_total = Categories_SSF_pie['Constant 2018 USD'][0]\n",
    "Be_total = Categories_SSF_pie['Constant 2018 USD'][1] \n",
    "Ca_total = Categories_SSF_pie['Constant 2018 USD'][2]\n"
   ]
  },
  {
   "cell_type": "code",
   "execution_count": 16,
   "metadata": {},
   "outputs": [
    {
     "name": "stdout",
     "output_type": "stream",
     "text": [
      "   SSF%_global\n",
      "3    18.699722\n",
      "        SSF_USD\n",
      "3  6.614228e+09\n"
     ]
    },
    {
     "data": {
      "text/html": [
       "<div>\n",
       "<style scoped>\n",
       "    .dataframe tbody tr th:only-of-type {\n",
       "        vertical-align: middle;\n",
       "    }\n",
       "\n",
       "    .dataframe tbody tr th {\n",
       "        vertical-align: top;\n",
       "    }\n",
       "\n",
       "    .dataframe thead th {\n",
       "        text-align: right;\n",
       "    }\n",
       "</style>\n",
       "<table border=\"1\" class=\"dataframe\">\n",
       "  <thead>\n",
       "    <tr style=\"text-align: right;\">\n",
       "      <th></th>\n",
       "      <th>Category</th>\n",
       "      <th>Constant 2018 USD</th>\n",
       "      <th>SSF_USD</th>\n",
       "      <th>LSF USD</th>\n",
       "      <th>SSF_%</th>\n",
       "      <th>SSF%_global</th>\n",
       "    </tr>\n",
       "  </thead>\n",
       "  <tbody>\n",
       "    <tr>\n",
       "      <th>0</th>\n",
       "      <td>Ambiguous</td>\n",
       "      <td>2.499177e+09</td>\n",
       "      <td>6.840331e+08</td>\n",
       "      <td>1.815143e+09</td>\n",
       "      <td>27.370340</td>\n",
       "      <td>27.370340</td>\n",
       "    </tr>\n",
       "    <tr>\n",
       "      <th>1</th>\n",
       "      <td>Beneficial</td>\n",
       "      <td>1.062492e+10</td>\n",
       "      <td>2.038560e+09</td>\n",
       "      <td>8.586356e+09</td>\n",
       "      <td>19.186599</td>\n",
       "      <td>19.186599</td>\n",
       "    </tr>\n",
       "    <tr>\n",
       "      <th>2</th>\n",
       "      <td>Capacity-enhancing</td>\n",
       "      <td>2.224664e+10</td>\n",
       "      <td>3.891635e+09</td>\n",
       "      <td>1.835500e+10</td>\n",
       "      <td>17.493138</td>\n",
       "      <td>17.493138</td>\n",
       "    </tr>\n",
       "    <tr>\n",
       "      <th>3</th>\n",
       "      <td>AmbiguousBeneficialCapacity-enhancing</td>\n",
       "      <td>3.537073e+10</td>\n",
       "      <td>6.614228e+09</td>\n",
       "      <td>2.875650e+10</td>\n",
       "      <td>64.050077</td>\n",
       "      <td>18.699722</td>\n",
       "    </tr>\n",
       "  </tbody>\n",
       "</table>\n",
       "</div>"
      ],
      "text/plain": [
       "                                Category  Constant 2018 USD       SSF_USD  \\\n",
       "0                              Ambiguous       2.499177e+09  6.840331e+08   \n",
       "1                             Beneficial       1.062492e+10  2.038560e+09   \n",
       "2                     Capacity-enhancing       2.224664e+10  3.891635e+09   \n",
       "3  AmbiguousBeneficialCapacity-enhancing       3.537073e+10  6.614228e+09   \n",
       "\n",
       "        LSF USD      SSF_%  SSF%_global  \n",
       "0  1.815143e+09  27.370340    27.370340  \n",
       "1  8.586356e+09  19.186599    19.186599  \n",
       "2  1.835500e+10  17.493138    17.493138  \n",
       "3  2.875650e+10  64.050077    18.699722  "
      ]
     },
     "execution_count": 16,
     "metadata": {},
     "output_type": "execute_result"
    }
   ],
   "source": [
    "# percentages by category\n",
    "Categories_SSF_pie['SSF_%'] = Categories_SSF_pie['SSF_USD']/Categories_SSF_pie['Constant 2018 USD']*100\n",
    "\n",
    "Global_SSF = Categories_SSF_pie.append(Categories_SSF_pie.sum(), ignore_index = True)\n",
    "Global_SSF['SSF%_global'] = Global_SSF['SSF_USD']/Global_SSF['Constant 2018 USD']*100\n",
    "print (Global_SSF.loc[[3],['SSF%_global']])\n",
    "print (Global_SSF.loc[[3],['SSF_USD']])\n",
    "Global_SSF"
   ]
  },
  {
   "cell_type": "code",
   "execution_count": 17,
   "metadata": {},
   "outputs": [
    {
     "data": {
      "text/plain": [
       "51.8931960201631"
      ]
     },
     "execution_count": 17,
     "metadata": {},
     "output_type": "execute_result"
    }
   ],
   "source": [
    " # compute the LSF Capacity-enhanicng amount per global total\n",
    "LSF_cap  = Global_SSF['LSF USD'][2]\n",
    "Global_total = Global_SSF['Constant 2018 USD'][3]\n",
    "LSF_cap_percent = LSF_cap / Global_total *100\n",
    "LSF_cap_percent"
   ]
  },
  {
   "cell_type": "code",
   "execution_count": 18,
   "metadata": {},
   "outputs": [
    {
     "data": {
      "text/plain": [
       "18355001705.2309"
      ]
     },
     "execution_count": 18,
     "metadata": {},
     "output_type": "execute_result"
    }
   ],
   "source": [
    "LSF_cap"
   ]
  },
  {
   "cell_type": "code",
   "execution_count": 19,
   "metadata": {},
   "outputs": [],
   "source": [
    "Am_radius = Am_total/12000000000\n",
    "Be_radius = Be_total/12000000000\n",
    "Ca_radius = Ca_total/12000000000"
   ]
  },
  {
   "cell_type": "code",
   "execution_count": 20,
   "metadata": {},
   "outputs": [],
   "source": [
    "Am_S = (Categories_SSF_pie['SSF_USD'][0])/100000000\n",
    "Am_L = (Categories_SSF_pie['LSF USD'][0])/100000000\n",
    "Be_S = (Categories_SSF_pie['SSF_USD'][1])/100000000\n",
    "Be_L = (Categories_SSF_pie['LSF USD'][1])/100000000\n",
    "Ca_S = (Categories_SSF_pie['SSF_USD'][2])/100000000\n",
    "Ca_L = (Categories_SSF_pie['LSF USD'][2])/100000000"
   ]
  },
  {
   "cell_type": "code",
   "execution_count": 21,
   "metadata": {},
   "outputs": [
    {
     "data": {
      "image/png": "[encoded data removed]",
      "text/plain": [
       "<Figure size 1296x864 with 3 Axes>"
      ]
     },
     "metadata": {},
     "output_type": "display_data"
    }
   ],
   "source": [
    "\n",
    "# Titel =  Pie SSF and LSF by category\n",
    "\n",
    "sizes_A = Am_S, Am_L\n",
    "sizes_B = Be_S, Be_L\n",
    "sizes_C = Ca_S, Ca_L\n",
    "\n",
    "\n",
    "fig, (ax1, ax2, ax3) = plt.subplots(nrows=1, ncols=3,figsize=(18, 12))\n",
    "\n",
    "# plt.setp(autotexts, size='x-small')\n",
    "# autotexts[0].set_color('white')\n",
    "\n",
    "ax1.pie(sizes_A, startangle=90, radius = Am_radius, colors = ['blue', 'skyblue'])\n",
    "\n",
    "\n",
    "ax2.pie(sizes_B, startangle=90, radius = Be_radius, colors = ['blue', 'skyblue'])\n",
    "\n",
    "# Adapt radius and text size for a smaller pie\n",
    "ax3.pie(sizes_C, startangle=90, radius=Ca_radius, colors = ['blue', 'skyblue'])\n",
    "\n",
    "\n",
    "plt.show()"
   ]
  },
  {
   "cell_type": "code",
   "execution_count": 22,
   "metadata": {},
   "outputs": [],
   "source": [
    "Subsidies_SSF_types = Subsidies_SSF_2018.groupby(['Type'], as_index = False).sum()\n",
    "Subsidies_SSF_types['SSF USD billion'] = Subsidies_SSF_types['SSF_USD']/1000000000\n",
    "Subsidies_SSF_types['Total USD billion'] = Subsidies_SSF_types['Constant 2018 USD']/1000000000\n",
    "Subsidies_SSF_types['LSF USD billion'] = Subsidies_SSF_types['Total USD billion'] - Subsidies_SSF_types['SSF USD billion']\n",
    "Subsidies_SSF_types = Subsidies_SSF_types.sort_values(by = 'Total USD billion', ascending = False)\n",
    "Subsidies_SSF_types_print = Subsidies_SSF_types.loc[:,['Type','SSF USD billion','LSF USD billion', 'Total USD billion']]\n",
    "Subsidies_SSF_types_print.set_index('Type', inplace=True)\n",
    "Subsidies_SSF_types_print['%SSF'] = Subsidies_SSF_types_print['SSF USD billion'] / Subsidies_SSF_types_print['Total USD billion'] *100"
   ]
  },
  {
   "cell_type": "code",
   "execution_count": 23,
   "metadata": {},
   "outputs": [
    {
     "data": {
      "text/html": [
       "<div>\n",
       "<style scoped>\n",
       "    .dataframe tbody tr th:only-of-type {\n",
       "        vertical-align: middle;\n",
       "    }\n",
       "\n",
       "    .dataframe tbody tr th {\n",
       "        vertical-align: top;\n",
       "    }\n",
       "\n",
       "    .dataframe thead th {\n",
       "        text-align: right;\n",
       "    }\n",
       "</style>\n",
       "<table border=\"1\" class=\"dataframe\">\n",
       "  <thead>\n",
       "    <tr style=\"text-align: right;\">\n",
       "      <th></th>\n",
       "      <th>SSF USD billion</th>\n",
       "      <th>LSF USD billion</th>\n",
       "      <th>Total USD billion</th>\n",
       "      <th>%SSF</th>\n",
       "    </tr>\n",
       "    <tr>\n",
       "      <th>Type</th>\n",
       "      <th></th>\n",
       "      <th></th>\n",
       "      <th></th>\n",
       "      <th></th>\n",
       "    </tr>\n",
       "  </thead>\n",
       "  <tbody>\n",
       "    <tr>\n",
       "      <th>Fuel subsidies</th>\n",
       "      <td>0.575899</td>\n",
       "      <td>7.155055</td>\n",
       "      <td>7.730954</td>\n",
       "      <td>7.449266</td>\n",
       "    </tr>\n",
       "    <tr>\n",
       "      <th>Fisheries mangt.</th>\n",
       "      <td>1.281081</td>\n",
       "      <td>5.476826</td>\n",
       "      <td>6.757907</td>\n",
       "      <td>18.956775</td>\n",
       "    </tr>\n",
       "    <tr>\n",
       "      <th>Tax exemption</th>\n",
       "      <td>0.876376</td>\n",
       "      <td>4.442936</td>\n",
       "      <td>5.319312</td>\n",
       "      <td>16.475362</td>\n",
       "    </tr>\n",
       "    <tr>\n",
       "      <th>Fisheries dev. projects</th>\n",
       "      <td>0.774767</td>\n",
       "      <td>1.831575</td>\n",
       "      <td>2.606342</td>\n",
       "      <td>29.726226</td>\n",
       "    </tr>\n",
       "    <tr>\n",
       "      <th>Markt. &amp; storage infrast.</th>\n",
       "      <td>0.765794</td>\n",
       "      <td>1.641136</td>\n",
       "      <td>2.406930</td>\n",
       "      <td>31.816214</td>\n",
       "    </tr>\n",
       "    <tr>\n",
       "      <th>MPAs</th>\n",
       "      <td>0.565635</td>\n",
       "      <td>1.817004</td>\n",
       "      <td>2.382639</td>\n",
       "      <td>23.739868</td>\n",
       "    </tr>\n",
       "    <tr>\n",
       "      <th>Fishing port develop.</th>\n",
       "      <td>0.730372</td>\n",
       "      <td>1.083996</td>\n",
       "      <td>1.814368</td>\n",
       "      <td>40.254905</td>\n",
       "    </tr>\n",
       "    <tr>\n",
       "      <th>Fishery R&amp;D</th>\n",
       "      <td>0.191843</td>\n",
       "      <td>1.292526</td>\n",
       "      <td>1.484370</td>\n",
       "      <td>12.924234</td>\n",
       "    </tr>\n",
       "    <tr>\n",
       "      <th>Vessel buyback</th>\n",
       "      <td>0.039624</td>\n",
       "      <td>1.384355</td>\n",
       "      <td>1.423979</td>\n",
       "      <td>2.782626</td>\n",
       "    </tr>\n",
       "    <tr>\n",
       "      <th>Fishing access</th>\n",
       "      <td>0.000000</td>\n",
       "      <td>1.400743</td>\n",
       "      <td>1.400743</td>\n",
       "      <td>0.000000</td>\n",
       "    </tr>\n",
       "    <tr>\n",
       "      <th>Boat constsruct. &amp; renov.</th>\n",
       "      <td>0.168426</td>\n",
       "      <td>0.799561</td>\n",
       "      <td>0.967987</td>\n",
       "      <td>17.399655</td>\n",
       "    </tr>\n",
       "    <tr>\n",
       "      <th>Fisher assistance</th>\n",
       "      <td>0.346947</td>\n",
       "      <td>0.427970</td>\n",
       "      <td>0.774917</td>\n",
       "      <td>44.772110</td>\n",
       "    </tr>\n",
       "    <tr>\n",
       "      <th>Rural fisher communities</th>\n",
       "      <td>0.297462</td>\n",
       "      <td>0.002818</td>\n",
       "      <td>0.300281</td>\n",
       "      <td>99.061525</td>\n",
       "    </tr>\n",
       "  </tbody>\n",
       "</table>\n",
       "</div>"
      ],
      "text/plain": [
       "                           SSF USD billion  LSF USD billion  \\\n",
       "Type                                                          \n",
       "Fuel subsidies                    0.575899         7.155055   \n",
       "Fisheries mangt.                  1.281081         5.476826   \n",
       "Tax exemption                     0.876376         4.442936   \n",
       "Fisheries dev. projects           0.774767         1.831575   \n",
       "Markt. & storage infrast.         0.765794         1.641136   \n",
       "MPAs                              0.565635         1.817004   \n",
       "Fishing port develop.             0.730372         1.083996   \n",
       "Fishery R&D                       0.191843         1.292526   \n",
       "Vessel buyback                    0.039624         1.384355   \n",
       "Fishing access                    0.000000         1.400743   \n",
       "Boat constsruct. & renov.         0.168426         0.799561   \n",
       "Fisher assistance                 0.346947         0.427970   \n",
       "Rural fisher communities          0.297462         0.002818   \n",
       "\n",
       "                           Total USD billion       %SSF  \n",
       "Type                                                     \n",
       "Fuel subsidies                      7.730954   7.449266  \n",
       "Fisheries mangt.                    6.757907  18.956775  \n",
       "Tax exemption                       5.319312  16.475362  \n",
       "Fisheries dev. projects             2.606342  29.726226  \n",
       "Markt. & storage infrast.           2.406930  31.816214  \n",
       "MPAs                                2.382639  23.739868  \n",
       "Fishing port develop.               1.814368  40.254905  \n",
       "Fishery R&D                         1.484370  12.924234  \n",
       "Vessel buyback                      1.423979   2.782626  \n",
       "Fishing access                      1.400743   0.000000  \n",
       "Boat constsruct. & renov.           0.967987  17.399655  \n",
       "Fisher assistance                   0.774917  44.772110  \n",
       "Rural fisher communities            0.300281  99.061525  "
      ]
     },
     "execution_count": 23,
     "metadata": {},
     "output_type": "execute_result"
    }
   ],
   "source": [
    "Subsidies_SSF_types_print\n"
   ]
  },
  {
   "cell_type": "code",
   "execution_count": 24,
   "metadata": {},
   "outputs": [],
   "source": [
    "Subsidies_SSF_types_short = Subsidies_SSF_types.loc[:,['Type','SSF USD billion','LSF USD billion']]\n",
    "Subsidies_SSF_types_short.set_index('Type', inplace=True)"
   ]
  },
  {
   "cell_type": "code",
   "execution_count": 25,
   "metadata": {},
   "outputs": [],
   "source": [
    "Subsidies_SSF_types_short = Subsidies_SSF_types_short.rename(index={'Tax exemption': 'Tax exemption (C)', 'Markt. & storage infrast.': 'Markt. & storage infrast. (C)',\n",
    "                                                                    'Fishing port develop.': 'Fishing port develop. (C)',\n",
    "                                                                    'Fishing access': 'Fishing access (C)',\n",
    "                                                                    'Boat constsruct. & renov.': 'Boat constsruct. & renov. (C)',\n",
    "                                                                    'Fuel subsidies': 'Fuel subsidies (C)',\n",
    "                                                                    'Fisheries dev. projects': 'Fisheries dev. projects (C)',\n",
    "                                                                    'MPAs':'MPAs (B)', 'Fisheries mangt.':'Fisheries mangt. (B)',\n",
    "                                                                    'Fishery R&D':'Fishery R&D (B)',\n",
    "                                                                    'Fisher assistance':'Fisher assistance (A)',\n",
    "                                                                    'Vessel buyback':'Vessel buyback (A)',\n",
    "                                                                    'Rural fisher communities':'Rural fisher communities (A)'})\n",
    "# preparation for graph rename type names"
   ]
  },
  {
   "cell_type": "code",
   "execution_count": 26,
   "metadata": {},
   "outputs": [
    {
     "data": {
      "image/png": "[encoded data removed]",
      "text/plain": [
       "<Figure size 720x504 with 1 Axes>"
      ]
     },
     "metadata": {
      "needs_background": "light"
     },
     "output_type": "display_data"
    }
   ],
   "source": [
    "# Bar chart global SSF vs LSF subsidies by type\n",
    "plt.rcParams['grid.color'] = 'lightgrey'\n",
    "ax = Subsidies_SSF_types_short.plot.barh(stacked=True,  figsize=(10,7), color = ['mediumblue', 'skyblue'], legend = False)\n",
    "ax.set_xlabel('Subsidy amounts in billion USD')\n",
    "ax.set_ylabel('')\n",
    "ax.set_facecolor(\"white\")"
   ]
  },
  {
   "cell_type": "code",
   "execution_count": 27,
   "metadata": {},
   "outputs": [
    {
     "data": {
      "text/plain": [
       "Index(['RegionName', 'Country', 'Category', 'Constant 2018 USD', 'SSF_USD',\n",
       "       'LSF_USD', 'Region_Name'],\n",
       "      dtype='object')"
      ]
     },
     "execution_count": 27,
     "metadata": {},
     "output_type": "execute_result"
    }
   ],
   "source": [
    "# preparation for graph regions, exclude China from Asia and plot on its own\n",
    "\n",
    "China_Regions_SSF = Subsidies_SSF_2018.loc[:,['RegionName','Country','Category','Constant 2018 USD', 'SSF_USD','LSF_USD']]\n",
    "\n",
    "China_Regions_SSF['Region_Name'] = np.where(China_Regions_SSF['Country'] == 'China', China_Regions_SSF['RegionName'].replace('Asia','China'), China_Regions_SSF['RegionName'])\n",
    "# China_Regions.to_csv(\"China_test.csv\")\n",
    "China_Regions_SSF.columns"
   ]
  },
  {
   "cell_type": "code",
   "execution_count": 28,
   "metadata": {},
   "outputs": [],
   "source": [
    "China_Regions_SSF['Total USD billion'] = China_Regions_SSF['Constant 2018 USD']/1000000000\n",
    "China_Regions_SSF['SSF USD billion'] = China_Regions_SSF['SSF_USD']/1000000000\n",
    "China_Regions_SSF['LSF USD billion'] = China_Regions_SSF['LSF_USD']/1000000000\n",
    "China_Regions_SSF\n",
    "\n",
    "\n",
    "China_Regions_SSF = China_Regions_SSF.loc[:,['Region_Name', 'Category','Total USD billion','SSF USD billion', 'LSF USD billion']]"
   ]
  },
  {
   "cell_type": "code",
   "execution_count": 35,
   "metadata": {},
   "outputs": [
    {
     "data": {
      "text/html": [
       "<div>\n",
       "<style scoped>\n",
       "    .dataframe tbody tr th:only-of-type {\n",
       "        vertical-align: middle;\n",
       "    }\n",
       "\n",
       "    .dataframe tbody tr th {\n",
       "        vertical-align: top;\n",
       "    }\n",
       "\n",
       "    .dataframe thead th {\n",
       "        text-align: right;\n",
       "    }\n",
       "</style>\n",
       "<table border=\"1\" class=\"dataframe\">\n",
       "  <thead>\n",
       "    <tr style=\"text-align: right;\">\n",
       "      <th></th>\n",
       "      <th>SSF USD billion</th>\n",
       "      <th>LSF USD billion</th>\n",
       "      <th>SSF%</th>\n",
       "    </tr>\n",
       "    <tr>\n",
       "      <th>Region_Name</th>\n",
       "      <th></th>\n",
       "      <th></th>\n",
       "      <th></th>\n",
       "    </tr>\n",
       "  </thead>\n",
       "  <tbody>\n",
       "    <tr>\n",
       "      <th>Asia$^{*}$</th>\n",
       "      <td>3.020480</td>\n",
       "      <td>9.216635</td>\n",
       "      <td>24.682942</td>\n",
       "    </tr>\n",
       "    <tr>\n",
       "      <th>China</th>\n",
       "      <td>0.272166</td>\n",
       "      <td>6.989088</td>\n",
       "      <td>3.748195</td>\n",
       "    </tr>\n",
       "    <tr>\n",
       "      <th>Europe</th>\n",
       "      <td>0.746461</td>\n",
       "      <td>5.642292</td>\n",
       "      <td>11.683980</td>\n",
       "    </tr>\n",
       "    <tr>\n",
       "      <th>North America</th>\n",
       "      <td>1.069202</td>\n",
       "      <td>3.486706</td>\n",
       "      <td>23.468465</td>\n",
       "    </tr>\n",
       "    <tr>\n",
       "      <th>Africa</th>\n",
       "      <td>0.705080</td>\n",
       "      <td>1.393947</td>\n",
       "      <td>33.590803</td>\n",
       "    </tr>\n",
       "    <tr>\n",
       "      <th>SCAC$^{**}$</th>\n",
       "      <td>0.666424</td>\n",
       "      <td>1.331678</td>\n",
       "      <td>33.352844</td>\n",
       "    </tr>\n",
       "    <tr>\n",
       "      <th>Oceania</th>\n",
       "      <td>0.134416</td>\n",
       "      <td>0.696154</td>\n",
       "      <td>16.183575</td>\n",
       "    </tr>\n",
       "  </tbody>\n",
       "</table>\n",
       "</div>"
      ],
      "text/plain": [
       "               SSF USD billion  LSF USD billion       SSF%\n",
       "Region_Name                                               \n",
       "Asia$^{*}$            3.020480         9.216635  24.682942\n",
       "China                 0.272166         6.989088   3.748195\n",
       "Europe                0.746461         5.642292  11.683980\n",
       "North America         1.069202         3.486706  23.468465\n",
       "Africa                0.705080         1.393947  33.590803\n",
       "SCAC$^{**}$           0.666424         1.331678  33.352844\n",
       "Oceania               0.134416         0.696154  16.183575"
      ]
     },
     "execution_count": 35,
     "metadata": {},
     "output_type": "execute_result"
    }
   ],
   "source": [
    "China_Regions_SSF_grouped = China_Regions_SSF.groupby(['Region_Name']).sum()\n",
    "China_Regions_SSF_sorted = China_Regions_SSF_grouped.sort_values(by = 'Total USD billion', ascending = False)\n",
    "Regions_SSF = China_Regions_SSF_sorted.loc[:,['SSF USD billion','LSF USD billion']]\n",
    "Regions_SSF = Regions_SSF.rename(index={'South, Central America and Carribbean': 'SCAC$^{**}$',})\n",
    "Regions_SSF = Regions_SSF.rename(index={'Asia': 'Asia$^{*}$',})\n",
    "Regions_SSF_percent = Regions_SSF\n",
    "Regions_SSF_percent['SSF%'] = (Regions_SSF_percent['SSF USD billion'] / (Regions_SSF_percent['SSF USD billion']+Regions_SSF_percent['LSF USD billion']))*100\n",
    "Regions_SSF_percent"
   ]
  },
  {
   "cell_type": "code",
   "execution_count": 30,
   "metadata": {},
   "outputs": [
    {
     "data": {
      "image/png": "[encoded data removed]",
      "text/plain": [
       "<Figure size 720x504 with 1 Axes>"
      ]
     },
     "metadata": {
      "needs_background": "light"
     },
     "output_type": "display_data"
    }
   ],
   "source": [
    "# xlabel : 'Subsidy estimates (USD in 2018)'\n",
    "fig = Regions_SSF.plot.bar(stacked=True, figsize=(10,7), color = ['mediumblue', 'skyblue'], edgecolor = 'black')\n",
    "fig.set_ylabel('Subsidy amounts in billion USD')\n",
    "fig.set_xlabel('')\n",
    "fig.set_facecolor(\"white\")\n",
    "legend = plt.legend()\n",
    "frame = legend.get_frame()\n",
    "frame.set_facecolor(\"white\")\n",
    "# legend.set_facecolor(\"white\")\n",
    "\n",
    "plt.show()"
   ]
  },
  {
   "cell_type": "code",
   "execution_count": 31,
   "metadata": {},
   "outputs": [],
   "source": [
    "# prep data to divide into Developed and Developing using UN scheme\n",
    "Subsidies_SSF_Developed = Subsidies_SSF_2018.loc[:,['RegionName','Country','Category','Type','LSF_USD','SSF_USD']]\n",
    "\n",
    "Countrydata_developed = Countrydata.loc[:,['Country','UN_Developed']]\n",
    "Subsidies_SSF_Developed = pd.merge(left = Subsidies_SSF_Developed, right = Countrydata_developed, how = 'left' )\n",
    "SSF_Developed_grouped = Subsidies_SSF_Developed.groupby(['UN_Developed','Category'], as_index=False).sum()\n",
    "\n",
    "\n",
    "\n",
    "SSF_Developed_grouped['Total_USD'] = SSF_Developed_grouped['SSF_USD'] + SSF_Developed_grouped['LSF_USD']\n",
    "\n"
   ]
  },
  {
   "cell_type": "code",
   "execution_count": 32,
   "metadata": {},
   "outputs": [],
   "source": [
    "# False_total = SSF_Developed_grouped['Total_USD'][0]\n",
    "# True_total = SSF_Developed_grouped['Total_USD'][1] \n",
    "\n",
    "SSF_Developed_grouped.set_index('UN_Developed', inplace=True)\n",
    "SSF_Developed_grouped = SSF_Developed_grouped.rename(index={False: 'Developing', True: 'Developed'})\n",
    "SSF_Developed_grouped['SSF%'] = SSF_Developed_grouped['SSF_USD'] /SSF_Developed_grouped['Total_USD']*100\n",
    "# SSF_Developed_grouped.to_csv(\"Output/developed_grouped.csv\")\n",
    "# make csv to output table 1"
   ]
  },
  {
   "cell_type": "code",
   "execution_count": 33,
   "metadata": {},
   "outputs": [
    {
     "data": {
      "text/html": [
       "<div>\n",
       "<style scoped>\n",
       "    .dataframe tbody tr th:only-of-type {\n",
       "        vertical-align: middle;\n",
       "    }\n",
       "\n",
       "    .dataframe tbody tr th {\n",
       "        vertical-align: top;\n",
       "    }\n",
       "\n",
       "    .dataframe thead th {\n",
       "        text-align: right;\n",
       "    }\n",
       "</style>\n",
       "<table border=\"1\" class=\"dataframe\">\n",
       "  <thead>\n",
       "    <tr style=\"text-align: right;\">\n",
       "      <th></th>\n",
       "      <th>Category</th>\n",
       "      <th>LSF_USD</th>\n",
       "      <th>SSF_USD</th>\n",
       "      <th>Total_USD</th>\n",
       "      <th>SSF%</th>\n",
       "    </tr>\n",
       "    <tr>\n",
       "      <th>UN_Developed</th>\n",
       "      <th></th>\n",
       "      <th></th>\n",
       "      <th></th>\n",
       "      <th></th>\n",
       "      <th></th>\n",
       "    </tr>\n",
       "  </thead>\n",
       "  <tbody>\n",
       "    <tr>\n",
       "      <th>Developing</th>\n",
       "      <td>Ambiguous</td>\n",
       "      <td>1.138312e+09</td>\n",
       "      <td>4.386349e+08</td>\n",
       "      <td>1.576947e+09</td>\n",
       "      <td>27.815456</td>\n",
       "    </tr>\n",
       "    <tr>\n",
       "      <th>Developing</th>\n",
       "      <td>Beneficial</td>\n",
       "      <td>4.259011e+09</td>\n",
       "      <td>9.837681e+08</td>\n",
       "      <td>5.242779e+09</td>\n",
       "      <td>18.764249</td>\n",
       "    </tr>\n",
       "    <tr>\n",
       "      <th>Developing</th>\n",
       "      <td>Capacity-enhancing</td>\n",
       "      <td>1.364404e+10</td>\n",
       "      <td>2.450605e+09</td>\n",
       "      <td>1.609465e+10</td>\n",
       "      <td>15.226212</td>\n",
       "    </tr>\n",
       "    <tr>\n",
       "      <th>Developed</th>\n",
       "      <td>Ambiguous</td>\n",
       "      <td>6.768317e+08</td>\n",
       "      <td>2.453982e+08</td>\n",
       "      <td>9.222299e+08</td>\n",
       "      <td>26.609222</td>\n",
       "    </tr>\n",
       "    <tr>\n",
       "      <th>Developed</th>\n",
       "      <td>Beneficial</td>\n",
       "      <td>4.327345e+09</td>\n",
       "      <td>1.054792e+09</td>\n",
       "      <td>5.382137e+09</td>\n",
       "      <td>19.598013</td>\n",
       "    </tr>\n",
       "    <tr>\n",
       "      <th>Developed</th>\n",
       "      <td>Capacity-enhancing</td>\n",
       "      <td>4.710961e+09</td>\n",
       "      <td>1.441030e+09</td>\n",
       "      <td>6.151991e+09</td>\n",
       "      <td>23.423799</td>\n",
       "    </tr>\n",
       "  </tbody>\n",
       "</table>\n",
       "</div>"
      ],
      "text/plain": [
       "                        Category       LSF_USD       SSF_USD     Total_USD  \\\n",
       "UN_Developed                                                                 \n",
       "Developing             Ambiguous  1.138312e+09  4.386349e+08  1.576947e+09   \n",
       "Developing            Beneficial  4.259011e+09  9.837681e+08  5.242779e+09   \n",
       "Developing    Capacity-enhancing  1.364404e+10  2.450605e+09  1.609465e+10   \n",
       "Developed              Ambiguous  6.768317e+08  2.453982e+08  9.222299e+08   \n",
       "Developed             Beneficial  4.327345e+09  1.054792e+09  5.382137e+09   \n",
       "Developed     Capacity-enhancing  4.710961e+09  1.441030e+09  6.151991e+09   \n",
       "\n",
       "                   SSF%  \n",
       "UN_Developed             \n",
       "Developing    27.815456  \n",
       "Developing    18.764249  \n",
       "Developing    15.226212  \n",
       "Developed     26.609222  \n",
       "Developed     19.598013  \n",
       "Developed     23.423799  "
      ]
     },
     "execution_count": 33,
     "metadata": {},
     "output_type": "execute_result"
    }
   ],
   "source": [
    "SSF_Developed_grouped"
   ]
  },
  {
   "cell_type": "code",
   "execution_count": null,
   "metadata": {},
   "outputs": [],
   "source": []
  }
 ],
 "metadata": {
  "kernelspec": {
   "display_name": "Python 3",
   "language": "python",
   "name": "python3"
  },
  "language_info": {
   "codemirror_mode": {
    "name": "ipython",
    "version": 3
   },
   "file_extension": ".py",
   "mimetype": "text/x-python",
   "name": "python",
   "nbconvert_exporter": "python",
   "pygments_lexer": "ipython3",
   "version": "3.7.0"
  }
 },
 "nbformat": 4,
 "nbformat_minor": 2
}
